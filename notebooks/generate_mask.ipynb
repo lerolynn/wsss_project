{
 "cells": [
  {
   "cell_type": "code",
   "execution_count": 98,
   "id": "b79c1215",
   "metadata": {},
   "outputs": [
    {
     "data": {
      "image/png": "[encoded data removed]",
      "text/plain": [
       "<PIL.Image.Image image mode=L size=512x384 at 0x7F5E3BD0DBE0>"
      ]
     },
     "execution_count": 98,
     "metadata": {},
     "output_type": "execute_result"
    }
   ],
   "source": [
    "import os\n",
    "import numpy as np\n",
    "from PIL import Image,ImageEnhance\n",
    "\n",
    "# mask_path = os.path.normpath((os.path.join(os.getcwd() + \"/../../CONTA/pseudo_mask/result/cam/2007_000032.npy\")))\n",
    "mask_path = os.path.normpath((os.path.join(os.getcwd() + \"/../submission/pseudo_label/00000000.png\")))\n",
    "mask_path\n",
    "\n",
    "im= Image.open(mask_path)\n",
    "enhancer = ImageEnhance.Contrast(im)\n",
    "\n",
    "\n",
    "factor = 100 #increase contrast\n",
    "im_output = enhancer.enhance(factor)\n",
    "im_output"
   ]
  }
 ],
 "metadata": {
  "kernelspec": {
   "display_name": "Python 3",
   "language": "python",
   "name": "python3"
  },
  "language_info": {
   "codemirror_mode": {
    "name": "ipython",
    "version": 3
   },
   "file_extension": ".py",
   "mimetype": "text/x-python",
   "name": "python",
   "nbconvert_exporter": "python",
   "pygments_lexer": "ipython3",
   "version": "3.6.13"
  }
 },
 "nbformat": 4,
 "nbformat_minor": 5
}
